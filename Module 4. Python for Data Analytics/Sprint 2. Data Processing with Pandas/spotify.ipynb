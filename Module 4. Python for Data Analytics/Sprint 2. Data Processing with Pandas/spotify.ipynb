{
 "cells": [
  {
   "cell_type": "code",
   "execution_count": 4,
   "id": "d1a4706c-adf7-4465-a62d-850cd0344256",
   "metadata": {},
   "outputs": [],
   "source": [
    "import numpy as np\n",
    "import pandas as pd\n",
    "from scipy import stats\n",
    "import matplotlib.pyplot as plt"
   ]
  },
  {
   "cell_type": "code",
   "execution_count": 5,
   "id": "53516e27-99d4-45f0-b9f7-4f4577642f2c",
   "metadata": {},
   "outputs": [
    {
     "data": {
      "text/html": [
       "<div>\n",
       "<style scoped>\n",
       "    .dataframe tbody tr th:only-of-type {\n",
       "        vertical-align: middle;\n",
       "    }\n",
       "\n",
       "    .dataframe tbody tr th {\n",
       "        vertical-align: top;\n",
       "    }\n",
       "\n",
       "    .dataframe thead th {\n",
       "        text-align: right;\n",
       "    }\n",
       "</style>\n",
       "<table border=\"1\" class=\"dataframe\">\n",
       "  <thead>\n",
       "    <tr style=\"text-align: right;\">\n",
       "      <th></th>\n",
       "      <th>artist</th>\n",
       "      <th>album</th>\n",
       "      <th>track_name</th>\n",
       "      <th>energy</th>\n",
       "      <th>danceability</th>\n",
       "      <th>key</th>\n",
       "      <th>loudness</th>\n",
       "      <th>acousticness</th>\n",
       "      <th>speechiness</th>\n",
       "      <th>instrumentalness</th>\n",
       "      <th>liveness</th>\n",
       "      <th>valence</th>\n",
       "      <th>tempo</th>\n",
       "      <th>duration_ms</th>\n",
       "      <th>genre</th>\n",
       "    </tr>\n",
       "  </thead>\n",
       "  <tbody>\n",
       "    <tr>\n",
       "      <th>0</th>\n",
       "      <td>The Weeknd</td>\n",
       "      <td>After Hours</td>\n",
       "      <td>Blinding Lights</td>\n",
       "      <td>0.730</td>\n",
       "      <td>0.514</td>\n",
       "      <td>1</td>\n",
       "      <td>-5.934</td>\n",
       "      <td>0.00146</td>\n",
       "      <td>0.0598</td>\n",
       "      <td>0.000095</td>\n",
       "      <td>0.0897</td>\n",
       "      <td>0.334</td>\n",
       "      <td>171.005</td>\n",
       "      <td>200040</td>\n",
       "      <td>R&amp;B/Soul</td>\n",
       "    </tr>\n",
       "    <tr>\n",
       "      <th>1</th>\n",
       "      <td>Tones And I</td>\n",
       "      <td>Dance Monkey</td>\n",
       "      <td>Dance Monkey</td>\n",
       "      <td>0.593</td>\n",
       "      <td>0.825</td>\n",
       "      <td>6</td>\n",
       "      <td>-6.401</td>\n",
       "      <td>0.68800</td>\n",
       "      <td>0.0988</td>\n",
       "      <td>0.000161</td>\n",
       "      <td>0.1700</td>\n",
       "      <td>0.540</td>\n",
       "      <td>98.078</td>\n",
       "      <td>209755</td>\n",
       "      <td>Alternative/Indie</td>\n",
       "    </tr>\n",
       "    <tr>\n",
       "      <th>2</th>\n",
       "      <td>Roddy Ricch</td>\n",
       "      <td>Please Excuse Me For Being Antisocial</td>\n",
       "      <td>The Box</td>\n",
       "      <td>0.586</td>\n",
       "      <td>0.896</td>\n",
       "      <td>10</td>\n",
       "      <td>-6.687</td>\n",
       "      <td>0.10400</td>\n",
       "      <td>0.0559</td>\n",
       "      <td>0.000000</td>\n",
       "      <td>0.7900</td>\n",
       "      <td>0.642</td>\n",
       "      <td>116.971</td>\n",
       "      <td>196653</td>\n",
       "      <td>Hip-Hop/Rap</td>\n",
       "    </tr>\n",
       "    <tr>\n",
       "      <th>3</th>\n",
       "      <td>SAINt JHN</td>\n",
       "      <td>Roses (Imanbek Remix)</td>\n",
       "      <td>Roses - Imanbek Remix</td>\n",
       "      <td>0.721</td>\n",
       "      <td>0.785</td>\n",
       "      <td>8</td>\n",
       "      <td>-5.457</td>\n",
       "      <td>0.01490</td>\n",
       "      <td>0.0506</td>\n",
       "      <td>0.004320</td>\n",
       "      <td>0.2850</td>\n",
       "      <td>0.894</td>\n",
       "      <td>121.962</td>\n",
       "      <td>176219</td>\n",
       "      <td>Dance/Electronic</td>\n",
       "    </tr>\n",
       "    <tr>\n",
       "      <th>4</th>\n",
       "      <td>Dua Lipa</td>\n",
       "      <td>Future Nostalgia</td>\n",
       "      <td>Don't Start Now</td>\n",
       "      <td>0.793</td>\n",
       "      <td>0.793</td>\n",
       "      <td>11</td>\n",
       "      <td>-4.521</td>\n",
       "      <td>0.01230</td>\n",
       "      <td>0.0830</td>\n",
       "      <td>0.000000</td>\n",
       "      <td>0.0951</td>\n",
       "      <td>0.679</td>\n",
       "      <td>123.950</td>\n",
       "      <td>183290</td>\n",
       "      <td>Nu-disco</td>\n",
       "    </tr>\n",
       "  </tbody>\n",
       "</table>\n",
       "</div>"
      ],
      "text/plain": [
       "        artist                                  album             track_name  \\\n",
       "0   The Weeknd                            After Hours        Blinding Lights   \n",
       "1  Tones And I                           Dance Monkey           Dance Monkey   \n",
       "2  Roddy Ricch  Please Excuse Me For Being Antisocial                The Box   \n",
       "3    SAINt JHN                  Roses (Imanbek Remix)  Roses - Imanbek Remix   \n",
       "4     Dua Lipa                       Future Nostalgia        Don't Start Now   \n",
       "\n",
       "   energy  danceability  key  loudness  acousticness  speechiness  \\\n",
       "0   0.730         0.514    1    -5.934       0.00146       0.0598   \n",
       "1   0.593         0.825    6    -6.401       0.68800       0.0988   \n",
       "2   0.586         0.896   10    -6.687       0.10400       0.0559   \n",
       "3   0.721         0.785    8    -5.457       0.01490       0.0506   \n",
       "4   0.793         0.793   11    -4.521       0.01230       0.0830   \n",
       "\n",
       "   instrumentalness  liveness  valence    tempo  duration_ms  \\\n",
       "0          0.000095    0.0897    0.334  171.005       200040   \n",
       "1          0.000161    0.1700    0.540   98.078       209755   \n",
       "2          0.000000    0.7900    0.642  116.971       196653   \n",
       "3          0.004320    0.2850    0.894  121.962       176219   \n",
       "4          0.000000    0.0951    0.679  123.950       183290   \n",
       "\n",
       "               genre  \n",
       "0           R&B/Soul  \n",
       "1  Alternative/Indie  \n",
       "2        Hip-Hop/Rap  \n",
       "3   Dance/Electronic  \n",
       "4           Nu-disco  "
      ]
     },
     "execution_count": 5,
     "metadata": {},
     "output_type": "execute_result"
    }
   ],
   "source": [
    "df = pd.read_csv('spotifytoptracks.csv', index_col=0)\n",
    "\n",
    "del df['track_id']\n",
    "\n",
    "df.head()"
   ]
  },
  {
   "cell_type": "code",
   "execution_count": 6,
   "id": "a7213c7c-242b-4554-8a16-8eeb0d850cab",
   "metadata": {},
   "outputs": [
    {
     "name": "stdout",
     "output_type": "stream",
     "text": [
      "<class 'pandas.core.frame.DataFrame'>\n",
      "Index: 50 entries, 0 to 49\n",
      "Data columns (total 15 columns):\n",
      " #   Column            Non-Null Count  Dtype  \n",
      "---  ------            --------------  -----  \n",
      " 0   artist            50 non-null     object \n",
      " 1   album             50 non-null     object \n",
      " 2   track_name        50 non-null     object \n",
      " 3   energy            50 non-null     float64\n",
      " 4   danceability      50 non-null     float64\n",
      " 5   key               50 non-null     int64  \n",
      " 6   loudness          50 non-null     float64\n",
      " 7   acousticness      50 non-null     float64\n",
      " 8   speechiness       50 non-null     float64\n",
      " 9   instrumentalness  50 non-null     float64\n",
      " 10  liveness          50 non-null     float64\n",
      " 11  valence           50 non-null     float64\n",
      " 12  tempo             50 non-null     float64\n",
      " 13  duration_ms       50 non-null     int64  \n",
      " 14  genre             50 non-null     object \n",
      "dtypes: float64(9), int64(2), object(4)\n",
      "memory usage: 6.2+ KB\n"
     ]
    }
   ],
   "source": [
    "df.info()"
   ]
  },
  {
   "cell_type": "code",
   "execution_count": 7,
   "id": "9fbdb1d6-6d84-43d5-9b60-542b495f2f4e",
   "metadata": {},
   "outputs": [
    {
     "data": {
      "text/html": [
       "<div>\n",
       "<style scoped>\n",
       "    .dataframe tbody tr th:only-of-type {\n",
       "        vertical-align: middle;\n",
       "    }\n",
       "\n",
       "    .dataframe tbody tr th {\n",
       "        vertical-align: top;\n",
       "    }\n",
       "\n",
       "    .dataframe thead th {\n",
       "        text-align: right;\n",
       "    }\n",
       "</style>\n",
       "<table border=\"1\" class=\"dataframe\">\n",
       "  <thead>\n",
       "    <tr style=\"text-align: right;\">\n",
       "      <th></th>\n",
       "      <th>energy</th>\n",
       "      <th>danceability</th>\n",
       "      <th>key</th>\n",
       "      <th>loudness</th>\n",
       "      <th>acousticness</th>\n",
       "      <th>speechiness</th>\n",
       "      <th>instrumentalness</th>\n",
       "      <th>liveness</th>\n",
       "      <th>valence</th>\n",
       "      <th>tempo</th>\n",
       "      <th>duration_ms</th>\n",
       "    </tr>\n",
       "  </thead>\n",
       "  <tbody>\n",
       "    <tr>\n",
       "      <th>count</th>\n",
       "      <td>50.000000</td>\n",
       "      <td>50.000000</td>\n",
       "      <td>50.000000</td>\n",
       "      <td>50.000000</td>\n",
       "      <td>50.000000</td>\n",
       "      <td>50.000000</td>\n",
       "      <td>50.000000</td>\n",
       "      <td>50.000000</td>\n",
       "      <td>50.000000</td>\n",
       "      <td>50.000000</td>\n",
       "      <td>50.000000</td>\n",
       "    </tr>\n",
       "    <tr>\n",
       "      <th>mean</th>\n",
       "      <td>0.609300</td>\n",
       "      <td>0.716720</td>\n",
       "      <td>5.720000</td>\n",
       "      <td>-6.225900</td>\n",
       "      <td>0.256206</td>\n",
       "      <td>0.124158</td>\n",
       "      <td>0.015962</td>\n",
       "      <td>0.196552</td>\n",
       "      <td>0.555710</td>\n",
       "      <td>119.690460</td>\n",
       "      <td>199955.360000</td>\n",
       "    </tr>\n",
       "    <tr>\n",
       "      <th>std</th>\n",
       "      <td>0.154348</td>\n",
       "      <td>0.124975</td>\n",
       "      <td>3.709007</td>\n",
       "      <td>2.349744</td>\n",
       "      <td>0.265250</td>\n",
       "      <td>0.116836</td>\n",
       "      <td>0.094312</td>\n",
       "      <td>0.176610</td>\n",
       "      <td>0.216386</td>\n",
       "      <td>25.414778</td>\n",
       "      <td>33996.122488</td>\n",
       "    </tr>\n",
       "    <tr>\n",
       "      <th>min</th>\n",
       "      <td>0.225000</td>\n",
       "      <td>0.351000</td>\n",
       "      <td>0.000000</td>\n",
       "      <td>-14.454000</td>\n",
       "      <td>0.001460</td>\n",
       "      <td>0.029000</td>\n",
       "      <td>0.000000</td>\n",
       "      <td>0.057400</td>\n",
       "      <td>0.060500</td>\n",
       "      <td>75.801000</td>\n",
       "      <td>140526.000000</td>\n",
       "    </tr>\n",
       "    <tr>\n",
       "      <th>25%</th>\n",
       "      <td>0.494000</td>\n",
       "      <td>0.672500</td>\n",
       "      <td>2.000000</td>\n",
       "      <td>-7.552500</td>\n",
       "      <td>0.052800</td>\n",
       "      <td>0.048325</td>\n",
       "      <td>0.000000</td>\n",
       "      <td>0.093950</td>\n",
       "      <td>0.434000</td>\n",
       "      <td>99.557250</td>\n",
       "      <td>175845.500000</td>\n",
       "    </tr>\n",
       "    <tr>\n",
       "      <th>50%</th>\n",
       "      <td>0.597000</td>\n",
       "      <td>0.746000</td>\n",
       "      <td>6.500000</td>\n",
       "      <td>-5.991500</td>\n",
       "      <td>0.188500</td>\n",
       "      <td>0.070050</td>\n",
       "      <td>0.000000</td>\n",
       "      <td>0.111000</td>\n",
       "      <td>0.560000</td>\n",
       "      <td>116.969000</td>\n",
       "      <td>197853.500000</td>\n",
       "    </tr>\n",
       "    <tr>\n",
       "      <th>75%</th>\n",
       "      <td>0.729750</td>\n",
       "      <td>0.794500</td>\n",
       "      <td>8.750000</td>\n",
       "      <td>-4.285500</td>\n",
       "      <td>0.298750</td>\n",
       "      <td>0.155500</td>\n",
       "      <td>0.000020</td>\n",
       "      <td>0.271250</td>\n",
       "      <td>0.726250</td>\n",
       "      <td>132.317000</td>\n",
       "      <td>215064.000000</td>\n",
       "    </tr>\n",
       "    <tr>\n",
       "      <th>max</th>\n",
       "      <td>0.855000</td>\n",
       "      <td>0.935000</td>\n",
       "      <td>11.000000</td>\n",
       "      <td>-3.280000</td>\n",
       "      <td>0.934000</td>\n",
       "      <td>0.487000</td>\n",
       "      <td>0.657000</td>\n",
       "      <td>0.792000</td>\n",
       "      <td>0.925000</td>\n",
       "      <td>180.067000</td>\n",
       "      <td>312820.000000</td>\n",
       "    </tr>\n",
       "  </tbody>\n",
       "</table>\n",
       "</div>"
      ],
      "text/plain": [
       "          energy  danceability        key   loudness  acousticness  \\\n",
       "count  50.000000     50.000000  50.000000  50.000000     50.000000   \n",
       "mean    0.609300      0.716720   5.720000  -6.225900      0.256206   \n",
       "std     0.154348      0.124975   3.709007   2.349744      0.265250   \n",
       "min     0.225000      0.351000   0.000000 -14.454000      0.001460   \n",
       "25%     0.494000      0.672500   2.000000  -7.552500      0.052800   \n",
       "50%     0.597000      0.746000   6.500000  -5.991500      0.188500   \n",
       "75%     0.729750      0.794500   8.750000  -4.285500      0.298750   \n",
       "max     0.855000      0.935000  11.000000  -3.280000      0.934000   \n",
       "\n",
       "       speechiness  instrumentalness   liveness    valence       tempo  \\\n",
       "count    50.000000         50.000000  50.000000  50.000000   50.000000   \n",
       "mean      0.124158          0.015962   0.196552   0.555710  119.690460   \n",
       "std       0.116836          0.094312   0.176610   0.216386   25.414778   \n",
       "min       0.029000          0.000000   0.057400   0.060500   75.801000   \n",
       "25%       0.048325          0.000000   0.093950   0.434000   99.557250   \n",
       "50%       0.070050          0.000000   0.111000   0.560000  116.969000   \n",
       "75%       0.155500          0.000020   0.271250   0.726250  132.317000   \n",
       "max       0.487000          0.657000   0.792000   0.925000  180.067000   \n",
       "\n",
       "         duration_ms  \n",
       "count      50.000000  \n",
       "mean   199955.360000  \n",
       "std     33996.122488  \n",
       "min    140526.000000  \n",
       "25%    175845.500000  \n",
       "50%    197853.500000  \n",
       "75%    215064.000000  \n",
       "max    312820.000000  "
      ]
     },
     "execution_count": 7,
     "metadata": {},
     "output_type": "execute_result"
    }
   ],
   "source": [
    "df.describe()"
   ]
  },
  {
   "cell_type": "code",
   "execution_count": 8,
   "id": "5f7f81d5-6a39-4e0a-bfae-603a786639b5",
   "metadata": {},
   "outputs": [
    {
     "name": "stdout",
     "output_type": "stream",
     "text": [
      "There are 0 duplicates in the dataset.\n"
     ]
    }
   ],
   "source": [
    "print(f\"There are {df.duplicated().sum()} duplicates in the dataset.\")"
   ]
  },
  {
   "cell_type": "code",
   "execution_count": 9,
   "id": "482f3ec8-21f3-4fb7-b5d2-9c401da8eceb",
   "metadata": {
    "scrolled": true
   },
   "outputs": [
    {
     "name": "stdout",
     "output_type": "stream",
     "text": [
      "Outlier detected in row 24, column 'loudness': value = -14.454\n",
      "Outlier detected in row 19, column 'speechiness': value = 0.487\n",
      "Outlier detected in row 24, column 'instrumentalness': value = 0.657\n",
      "Outlier detected in row 2, column 'liveness': value = 0.79\n",
      "Outlier detected in row 41, column 'liveness': value = 0.792\n",
      "Outlier detected in row 49, column 'duration_ms': value = 312820\n"
     ]
    }
   ],
   "source": [
    "def remove_outliers(df, threshold=3):\n",
    "    # Identify numeric columns\n",
    "    numeric_cols = df.select_dtypes(include=['number']).columns\n",
    "    \n",
    "    # Calculate z-scores for the specified columns\n",
    "    z_scores = stats.zscore(df[numeric_cols])\n",
    "    \n",
    "    # Identify outliers\n",
    "    outliers = (z_scores > threshold) | (z_scores < -threshold)\n",
    "    \n",
    "    # Iterate over each column to find outliers\n",
    "    for col in numeric_cols:\n",
    "        outlier_indices = df.index[outliers[col]]\n",
    "        for index in outlier_indices:\n",
    "            print(f\"Outlier detected in row {index}, column '{col}': value = {df.loc[index, col]}\")\n",
    "    \n",
    "    # Create a mask for rows where all z-scores are within the threshold\n",
    "    mask = (~outliers).all(axis=1)\n",
    "    \n",
    "    # Filter the DataFrame based on the mask\n",
    "    df_filtered = df[mask]\n",
    "    \n",
    "    return df_filtered\n",
    "\n",
    "df_cleaned = remove_outliers(df)"
   ]
  },
  {
   "cell_type": "markdown",
   "id": "34c20fe4-85f5-4587-a80a-75e6b5e73b84",
   "metadata": {},
   "source": [
    "## Outlier Analysis Results"
   ]
  },
  {
   "cell_type": "markdown",
   "id": "33e603d8-36b6-4cf1-b911-fe78dbca7860",
   "metadata": {},
   "source": [
    "While analyzing the dataset, five columns with potential outliers were identified using the z-score method.\n",
    "1. speechiness: This feature measures the presence of spoken words in a track. Values close to 1.0 indicate tracks that are heavily speech-oriented, while values close to 0.0 indicate music with little or no speech.\n",
    "2. instrumentalness: This feature predicts whether a track contains no vocals. A value close to 1.0 indicates high confidence that the track is instrumental, while a value close to 0.0 suggests that the track is likely vocal.\n",
    "3. liveness: This feature indicates the presence of an audience in the recording. Higher values represent an increased probability that the track was performed live. A value above 0.8 provides a strong likelihood of a live performance.\n",
    "4. loudness: This feature measures the overall amplitude of a track in decibels (dB). Loudness is measured relative to the maximum possible loudness, with values typically ranging from -60 dB to 0 dB. A lower value represents a quieter track.\n",
    "5. duration_ms: This feature represents the length of the track in milliseconds.\n",
    "#### Reasons for Not Removing Outliers\n",
    "1. Small Dataset Size: The dataset contains only 50 observations. Removing outliers from such a small sample could result in a loss of valuable information and potentially bias the analysis. In small datasets, outliers can have more impact on statistical measures, so preserving them might provide more comprehensive insights.\n",
    "2. Reliable Data Source: The data comes from Spotify's API, a trusted and robust source. Given the reliable nature of this source, there is little reason to suspect that the outliers represent errors or inaccuracies. These outliers are likely accurate reflections of unique songs or characteristics.\n",
    "3. Feature-Specific Considerations:\n",
    "    - speechiness, instrumentalness, and liveness: These features are naturally bound between 0 and 1, and all observed values fall within this expected range. As such, any high or low values are not errors but rather reflect the inherent nature of the tracks.\n",
    "    - loudness: The track with a loudness of -14 dB, although quieter than most, may represent a unique song that is meant to be more subdued. This value is not excessively extreme and fits within the typical range of loudness for music tracks.\n",
    "    - duration_ms: The duration of 312,820 milliseconds (~5 minutes and 13 seconds) for a track may simply indicate a longer-than-average song. In the context of music, a track of this length is not uncommon."
   ]
  },
  {
   "cell_type": "markdown",
   "id": "45aaa518-2cce-446b-b1ae-2b7df0caf5e7",
   "metadata": {},
   "source": [
    "## How many observations are there in this dataset?"
   ]
  },
  {
   "cell_type": "code",
   "execution_count": 10,
   "id": "8c182468-0d8a-471f-a31e-53321b535e4e",
   "metadata": {},
   "outputs": [
    {
     "name": "stdout",
     "output_type": "stream",
     "text": [
      "There are 50 unique observations in the dataset.\n"
     ]
    }
   ],
   "source": [
    "print(f\"There are {df.count().iloc[0]} unique observations in the dataset.\")"
   ]
  },
  {
   "cell_type": "markdown",
   "id": "6941b8c3-4874-40d8-9583-51a29df4d820",
   "metadata": {},
   "source": [
    "## How many features this dataset has?"
   ]
  },
  {
   "cell_type": "code",
   "execution_count": 11,
   "id": "e7e0ebb2-7280-49cf-aa78-ffe8bb0501ff",
   "metadata": {},
   "outputs": [
    {
     "name": "stdout",
     "output_type": "stream",
     "text": [
      "The dataset has 15 features.\n"
     ]
    }
   ],
   "source": [
    "print(f\"The dataset has {df.shape[1]} features.\")"
   ]
  },
  {
   "cell_type": "markdown",
   "id": "908b5350-042a-4728-8927-c6a290b3c272",
   "metadata": {},
   "source": [
    "## Which of the features are categorical?"
   ]
  },
  {
   "cell_type": "code",
   "execution_count": 12,
   "id": "9cee39d8-2a27-48ba-a705-92eb506f83e4",
   "metadata": {},
   "outputs": [
    {
     "name": "stdout",
     "output_type": "stream",
     "text": [
      "The dataset has 4 categorical features: artist, album, track_name, genre.\n"
     ]
    }
   ],
   "source": [
    "cat_cols = df.select_dtypes(include=['object']).columns\n",
    "cat_cols_list = \", \".join(cat_cols)\n",
    "print(f\"The dataset has {len(cat_cols)} categorical features: {cat_cols_list}.\")"
   ]
  },
  {
   "cell_type": "markdown",
   "id": "b84c86d9-f703-469c-aaa4-95cba87a2ab7",
   "metadata": {},
   "source": [
    "## Which of the features are numeric?"
   ]
  },
  {
   "cell_type": "code",
   "execution_count": 13,
   "id": "705b0604-4490-40dc-a815-f9b72b3bd5d4",
   "metadata": {},
   "outputs": [
    {
     "name": "stdout",
     "output_type": "stream",
     "text": [
      "The dataset has 11 numeric features: energy, danceability, key, loudness, acousticness, speechiness, instrumentalness, liveness, valence, tempo, duration_ms.\n"
     ]
    }
   ],
   "source": [
    "num_cols = df.select_dtypes(include=['number']).columns\n",
    "num_cols_list = \", \".join(num_cols)\n",
    "print(f\"The dataset has {len(num_cols)} numeric features: {num_cols_list}.\")"
   ]
  },
  {
   "cell_type": "markdown",
   "id": "31cdff72-b5b4-41af-8960-d50220977760",
   "metadata": {},
   "source": [
    "## Are there any artists that have more than 1 popular track? If yes, which and how many?"
   ]
  },
  {
   "cell_type": "code",
   "execution_count": 14,
   "id": "476134f4-5479-437b-b48d-3b5d73da8c25",
   "metadata": {},
   "outputs": [
    {
     "data": {
      "text/html": [
       "<div>\n",
       "<style scoped>\n",
       "    .dataframe tbody tr th:only-of-type {\n",
       "        vertical-align: middle;\n",
       "    }\n",
       "\n",
       "    .dataframe tbody tr th {\n",
       "        vertical-align: top;\n",
       "    }\n",
       "\n",
       "    .dataframe thead th {\n",
       "        text-align: right;\n",
       "    }\n",
       "</style>\n",
       "<table border=\"1\" class=\"dataframe\">\n",
       "  <thead>\n",
       "    <tr style=\"text-align: right;\">\n",
       "      <th></th>\n",
       "      <th>artist</th>\n",
       "      <th>track_count</th>\n",
       "      <th>titles</th>\n",
       "    </tr>\n",
       "  </thead>\n",
       "  <tbody>\n",
       "    <tr>\n",
       "      <th>0</th>\n",
       "      <td>Billie Eilish</td>\n",
       "      <td>3</td>\n",
       "      <td>everything i wanted, bad guy, lovely (with Khalid)</td>\n",
       "    </tr>\n",
       "    <tr>\n",
       "      <th>1</th>\n",
       "      <td>Dua Lipa</td>\n",
       "      <td>3</td>\n",
       "      <td>Don't Start Now, Break My Heart, Physical</td>\n",
       "    </tr>\n",
       "    <tr>\n",
       "      <th>2</th>\n",
       "      <td>Harry Styles</td>\n",
       "      <td>2</td>\n",
       "      <td>Watermelon Sugar, Adore You</td>\n",
       "    </tr>\n",
       "    <tr>\n",
       "      <th>3</th>\n",
       "      <td>Justin Bieber</td>\n",
       "      <td>2</td>\n",
       "      <td>Intentions (feat. Quavo), Yummy</td>\n",
       "    </tr>\n",
       "    <tr>\n",
       "      <th>4</th>\n",
       "      <td>Lewis Capaldi</td>\n",
       "      <td>2</td>\n",
       "      <td>Someone You Loved, Before You Go</td>\n",
       "    </tr>\n",
       "    <tr>\n",
       "      <th>5</th>\n",
       "      <td>Post Malone</td>\n",
       "      <td>2</td>\n",
       "      <td>Circles, Sunflower - Spider-Man: Into the Spider-Verse</td>\n",
       "    </tr>\n",
       "    <tr>\n",
       "      <th>6</th>\n",
       "      <td>Travis Scott</td>\n",
       "      <td>3</td>\n",
       "      <td>HIGHEST IN THE ROOM, goosebumps, SICKO MODE</td>\n",
       "    </tr>\n",
       "  </tbody>\n",
       "</table>\n",
       "</div>"
      ],
      "text/plain": [
       "          artist  track_count  \\\n",
       "0  Billie Eilish            3   \n",
       "1       Dua Lipa            3   \n",
       "2   Harry Styles            2   \n",
       "3  Justin Bieber            2   \n",
       "4  Lewis Capaldi            2   \n",
       "5    Post Malone            2   \n",
       "6   Travis Scott            3   \n",
       "\n",
       "                                                   titles  \n",
       "0      everything i wanted, bad guy, lovely (with Khalid)  \n",
       "1               Don't Start Now, Break My Heart, Physical  \n",
       "2                             Watermelon Sugar, Adore You  \n",
       "3                         Intentions (feat. Quavo), Yummy  \n",
       "4                        Someone You Loved, Before You Go  \n",
       "5  Circles, Sunflower - Spider-Man: Into the Spider-Verse  \n",
       "6             HIGHEST IN THE ROOM, goosebumps, SICKO MODE  "
      ]
     },
     "execution_count": 14,
     "metadata": {},
     "output_type": "execute_result"
    }
   ],
   "source": [
    "# Group by artist and filter artists with more than one track\n",
    "popular_artists = df.groupby('artist').filter(lambda x: len(x) > 1)\n",
    "\n",
    "# Group by artist again to count tracks and list their titles\n",
    "grouped_artists = popular_artists.groupby('artist').agg(\n",
    "    track_count=('track_name', 'count'),\n",
    "    titles=('track_name', lambda x: ', '.join(x))\n",
    ")\n",
    "\n",
    "# Reset index to make 'artist' a column\n",
    "grouped_artists.reset_index(inplace=True)\n",
    "pd.set_option('display.max_colwidth', None)\n",
    "grouped_artists"
   ]
  },
  {
   "cell_type": "markdown",
   "id": "ace3cf3a-f1f0-44e9-a2d4-e686b2cd326a",
   "metadata": {},
   "source": [
    "## Who was the most popular artist?"
   ]
  },
  {
   "cell_type": "code",
   "execution_count": 15,
   "id": "f9d24bcf-f135-4129-9c3f-54f1dae54201",
   "metadata": {},
   "outputs": [
    {
     "name": "stdout",
     "output_type": "stream",
     "text": [
      "In terms of number of streams, it is The Weeknd with the track 'Blinding Lights'.\n"
     ]
    }
   ],
   "source": [
    "most_streamed_artist = df.iloc[0,0]\n",
    "most_streamed_track = df.iloc[0,2]\n",
    "print(f\"In terms of number of streams, it is {most_streamed_artist} with the track '{most_streamed_track}'.\")"
   ]
  },
  {
   "cell_type": "code",
   "execution_count": 16,
   "id": "9bbbb852-5e76-477f-97b9-c8946c213315",
   "metadata": {},
   "outputs": [
    {
     "name": "stdout",
     "output_type": "stream",
     "text": [
      "Alternatively, the artist(s) with the most tracks in Top 50: Billie Eilish (3), Dua Lipa (3), Travis Scott (3).\n"
     ]
    }
   ],
   "source": [
    "# Group by artist and count the number of songs for each artist\n",
    "track_counts = df['artist'].value_counts()\n",
    "max_count = track_counts.max()\n",
    "\n",
    "# Identify the artists with the most tracks\n",
    "most_tracks_artists = track_counts[track_counts == max_count]\n",
    "artists_list = \", \".join([f\"{artist} ({count})\" for artist, count in most_tracks_artists.items()])\n",
    "\n",
    "print(f\"Alternatively, the artist(s) with the most tracks in Top 50: {artists_list}.\")"
   ]
  },
  {
   "cell_type": "markdown",
   "id": "2584f20f-05e8-4895-a159-fb368ff13e3f",
   "metadata": {},
   "source": [
    "## How many artists in total have their songs in the top 50?"
   ]
  },
  {
   "cell_type": "code",
   "execution_count": 17,
   "id": "0cd26c33-d14c-4217-82c2-3ee010735182",
   "metadata": {},
   "outputs": [
    {
     "name": "stdout",
     "output_type": "stream",
     "text": [
      "The dataset has 40 unique artists.\n"
     ]
    }
   ],
   "source": [
    "print(f\"The dataset has {df['artist'].nunique()} unique artists.\")"
   ]
  },
  {
   "cell_type": "markdown",
   "id": "ee91024c-fc7f-4a83-97eb-cda63052a97c",
   "metadata": {},
   "source": [
    "## Are there any albums that have more than 1 popular track? If yes, which and how many?"
   ]
  },
  {
   "cell_type": "code",
   "execution_count": 18,
   "id": "3ee9a98f-7bde-42b7-b38a-3e22d15c88ea",
   "metadata": {},
   "outputs": [
    {
     "data": {
      "text/html": [
       "<div>\n",
       "<style scoped>\n",
       "    .dataframe tbody tr th:only-of-type {\n",
       "        vertical-align: middle;\n",
       "    }\n",
       "\n",
       "    .dataframe tbody tr th {\n",
       "        vertical-align: top;\n",
       "    }\n",
       "\n",
       "    .dataframe thead th {\n",
       "        text-align: right;\n",
       "    }\n",
       "</style>\n",
       "<table border=\"1\" class=\"dataframe\">\n",
       "  <thead>\n",
       "    <tr style=\"text-align: right;\">\n",
       "      <th></th>\n",
       "      <th>album</th>\n",
       "      <th>track_count</th>\n",
       "      <th>titles</th>\n",
       "    </tr>\n",
       "  </thead>\n",
       "  <tbody>\n",
       "    <tr>\n",
       "      <th>0</th>\n",
       "      <td>Changes</td>\n",
       "      <td>2</td>\n",
       "      <td>Intentions (feat. Quavo), Yummy</td>\n",
       "    </tr>\n",
       "    <tr>\n",
       "      <th>1</th>\n",
       "      <td>Fine Line</td>\n",
       "      <td>2</td>\n",
       "      <td>Watermelon Sugar, Adore You</td>\n",
       "    </tr>\n",
       "    <tr>\n",
       "      <th>2</th>\n",
       "      <td>Future Nostalgia</td>\n",
       "      <td>3</td>\n",
       "      <td>Don't Start Now, Break My Heart, Physical</td>\n",
       "    </tr>\n",
       "    <tr>\n",
       "      <th>3</th>\n",
       "      <td>Hollywood's Bleeding</td>\n",
       "      <td>2</td>\n",
       "      <td>Circles, Sunflower - Spider-Man: Into the Spider-Verse</td>\n",
       "    </tr>\n",
       "  </tbody>\n",
       "</table>\n",
       "</div>"
      ],
      "text/plain": [
       "                  album  track_count  \\\n",
       "0               Changes            2   \n",
       "1             Fine Line            2   \n",
       "2      Future Nostalgia            3   \n",
       "3  Hollywood's Bleeding            2   \n",
       "\n",
       "                                                   titles  \n",
       "0                         Intentions (feat. Quavo), Yummy  \n",
       "1                             Watermelon Sugar, Adore You  \n",
       "2               Don't Start Now, Break My Heart, Physical  \n",
       "3  Circles, Sunflower - Spider-Man: Into the Spider-Verse  "
      ]
     },
     "execution_count": 18,
     "metadata": {},
     "output_type": "execute_result"
    }
   ],
   "source": [
    "# Group by album and filter albums with more than one track\n",
    "popular_albums = df.groupby('album').filter(lambda x: len(x) > 1)\n",
    "\n",
    "# Group by album again to count tracks and list their titles\n",
    "grouped_albums = popular_albums.groupby('album').agg(\n",
    "    track_count=('track_name', 'count'),\n",
    "    titles=('track_name', lambda x: ', '.join(x))\n",
    ")\n",
    "\n",
    "# Reset index to make 'album' a column\n",
    "grouped_albums.reset_index(inplace=True)\n",
    "grouped_albums"
   ]
  },
  {
   "cell_type": "markdown",
   "id": "a50b6587-bb90-4043-b580-8ff7987a74fe",
   "metadata": {},
   "source": [
    "## How many albums in total have their songs in the top 50?"
   ]
  },
  {
   "cell_type": "code",
   "execution_count": 19,
   "id": "aaf187c8-7d8e-465e-969b-e1058f14ea6f",
   "metadata": {},
   "outputs": [
    {
     "name": "stdout",
     "output_type": "stream",
     "text": [
      "The dataset has 45 unique albums.\n"
     ]
    }
   ],
   "source": [
    "print(f\"The dataset has {df['album'].nunique()} unique albums.\")"
   ]
  },
  {
   "cell_type": "markdown",
   "id": "dde57dff-18ed-4e25-b124-27455ecd6bb2",
   "metadata": {},
   "source": [
    "## Which tracks have a danceability score above 0.7?"
   ]
  },
  {
   "cell_type": "code",
   "execution_count": 20,
   "id": "a8f24500-b6fa-4428-a756-f009b3bc25d5",
   "metadata": {
    "scrolled": true
   },
   "outputs": [
    {
     "data": {
      "text/html": [
       "<div>\n",
       "<style scoped>\n",
       "    .dataframe tbody tr th:only-of-type {\n",
       "        vertical-align: middle;\n",
       "    }\n",
       "\n",
       "    .dataframe tbody tr th {\n",
       "        vertical-align: top;\n",
       "    }\n",
       "\n",
       "    .dataframe thead th {\n",
       "        text-align: right;\n",
       "    }\n",
       "</style>\n",
       "<table border=\"1\" class=\"dataframe\">\n",
       "  <thead>\n",
       "    <tr style=\"text-align: right;\">\n",
       "      <th></th>\n",
       "      <th>track_name</th>\n",
       "      <th>danceability</th>\n",
       "    </tr>\n",
       "  </thead>\n",
       "  <tbody>\n",
       "    <tr>\n",
       "      <th>1</th>\n",
       "      <td>Dance Monkey</td>\n",
       "      <td>0.825</td>\n",
       "    </tr>\n",
       "    <tr>\n",
       "      <th>2</th>\n",
       "      <td>The Box</td>\n",
       "      <td>0.896</td>\n",
       "    </tr>\n",
       "    <tr>\n",
       "      <th>3</th>\n",
       "      <td>Roses - Imanbek Remix</td>\n",
       "      <td>0.785</td>\n",
       "    </tr>\n",
       "    <tr>\n",
       "      <th>4</th>\n",
       "      <td>Don't Start Now</td>\n",
       "      <td>0.793</td>\n",
       "    </tr>\n",
       "    <tr>\n",
       "      <th>5</th>\n",
       "      <td>ROCKSTAR (feat. Roddy Ricch)</td>\n",
       "      <td>0.746</td>\n",
       "    </tr>\n",
       "    <tr>\n",
       "      <th>7</th>\n",
       "      <td>death bed (coffee for your head)</td>\n",
       "      <td>0.726</td>\n",
       "    </tr>\n",
       "    <tr>\n",
       "      <th>8</th>\n",
       "      <td>Falling</td>\n",
       "      <td>0.784</td>\n",
       "    </tr>\n",
       "    <tr>\n",
       "      <th>10</th>\n",
       "      <td>Tusa</td>\n",
       "      <td>0.803</td>\n",
       "    </tr>\n",
       "    <tr>\n",
       "      <th>13</th>\n",
       "      <td>Blueberry Faygo</td>\n",
       "      <td>0.774</td>\n",
       "    </tr>\n",
       "    <tr>\n",
       "      <th>14</th>\n",
       "      <td>Intentions (feat. Quavo)</td>\n",
       "      <td>0.806</td>\n",
       "    </tr>\n",
       "    <tr>\n",
       "      <th>15</th>\n",
       "      <td>Toosie Slide</td>\n",
       "      <td>0.830</td>\n",
       "    </tr>\n",
       "    <tr>\n",
       "      <th>17</th>\n",
       "      <td>Say So</td>\n",
       "      <td>0.787</td>\n",
       "    </tr>\n",
       "    <tr>\n",
       "      <th>18</th>\n",
       "      <td>Memories</td>\n",
       "      <td>0.764</td>\n",
       "    </tr>\n",
       "    <tr>\n",
       "      <th>19</th>\n",
       "      <td>Life Is Good (feat. Drake)</td>\n",
       "      <td>0.795</td>\n",
       "    </tr>\n",
       "    <tr>\n",
       "      <th>20</th>\n",
       "      <td>Savage Love (Laxed - Siren Beat)</td>\n",
       "      <td>0.767</td>\n",
       "    </tr>\n",
       "    <tr>\n",
       "      <th>22</th>\n",
       "      <td>Breaking Me</td>\n",
       "      <td>0.789</td>\n",
       "    </tr>\n",
       "    <tr>\n",
       "      <th>24</th>\n",
       "      <td>everything i wanted</td>\n",
       "      <td>0.704</td>\n",
       "    </tr>\n",
       "    <tr>\n",
       "      <th>25</th>\n",
       "      <td>Señorita</td>\n",
       "      <td>0.759</td>\n",
       "    </tr>\n",
       "    <tr>\n",
       "      <th>26</th>\n",
       "      <td>bad guy</td>\n",
       "      <td>0.701</td>\n",
       "    </tr>\n",
       "    <tr>\n",
       "      <th>27</th>\n",
       "      <td>WAP (feat. Megan Thee Stallion)</td>\n",
       "      <td>0.935</td>\n",
       "    </tr>\n",
       "    <tr>\n",
       "      <th>28</th>\n",
       "      <td>Sunday Best</td>\n",
       "      <td>0.878</td>\n",
       "    </tr>\n",
       "    <tr>\n",
       "      <th>29</th>\n",
       "      <td>Godzilla (feat. Juice WRLD)</td>\n",
       "      <td>0.808</td>\n",
       "    </tr>\n",
       "    <tr>\n",
       "      <th>31</th>\n",
       "      <td>Break My Heart</td>\n",
       "      <td>0.730</td>\n",
       "    </tr>\n",
       "    <tr>\n",
       "      <th>32</th>\n",
       "      <td>Dynamite</td>\n",
       "      <td>0.746</td>\n",
       "    </tr>\n",
       "    <tr>\n",
       "      <th>33</th>\n",
       "      <td>Supalonely (feat. Gus Dapperton)</td>\n",
       "      <td>0.862</td>\n",
       "    </tr>\n",
       "    <tr>\n",
       "      <th>37</th>\n",
       "      <td>Sunflower - Spider-Man: Into the Spider-Verse</td>\n",
       "      <td>0.755</td>\n",
       "    </tr>\n",
       "    <tr>\n",
       "      <th>38</th>\n",
       "      <td>Hawái</td>\n",
       "      <td>0.783</td>\n",
       "    </tr>\n",
       "    <tr>\n",
       "      <th>39</th>\n",
       "      <td>Ride It</td>\n",
       "      <td>0.880</td>\n",
       "    </tr>\n",
       "    <tr>\n",
       "      <th>40</th>\n",
       "      <td>goosebumps</td>\n",
       "      <td>0.841</td>\n",
       "    </tr>\n",
       "    <tr>\n",
       "      <th>41</th>\n",
       "      <td>RITMO (Bad Boys For Life)</td>\n",
       "      <td>0.723</td>\n",
       "    </tr>\n",
       "    <tr>\n",
       "      <th>42</th>\n",
       "      <td>THE SCOTTS</td>\n",
       "      <td>0.716</td>\n",
       "    </tr>\n",
       "    <tr>\n",
       "      <th>49</th>\n",
       "      <td>SICKO MODE</td>\n",
       "      <td>0.834</td>\n",
       "    </tr>\n",
       "  </tbody>\n",
       "</table>\n",
       "</div>"
      ],
      "text/plain": [
       "                                       track_name  danceability\n",
       "1                                    Dance Monkey         0.825\n",
       "2                                         The Box         0.896\n",
       "3                           Roses - Imanbek Remix         0.785\n",
       "4                                 Don't Start Now         0.793\n",
       "5                    ROCKSTAR (feat. Roddy Ricch)         0.746\n",
       "7                death bed (coffee for your head)         0.726\n",
       "8                                         Falling         0.784\n",
       "10                                           Tusa         0.803\n",
       "13                                Blueberry Faygo         0.774\n",
       "14                       Intentions (feat. Quavo)         0.806\n",
       "15                                   Toosie Slide         0.830\n",
       "17                                         Say So         0.787\n",
       "18                                       Memories         0.764\n",
       "19                     Life Is Good (feat. Drake)         0.795\n",
       "20               Savage Love (Laxed - Siren Beat)         0.767\n",
       "22                                    Breaking Me         0.789\n",
       "24                            everything i wanted         0.704\n",
       "25                                       Señorita         0.759\n",
       "26                                        bad guy         0.701\n",
       "27                WAP (feat. Megan Thee Stallion)         0.935\n",
       "28                                    Sunday Best         0.878\n",
       "29                    Godzilla (feat. Juice WRLD)         0.808\n",
       "31                                 Break My Heart         0.730\n",
       "32                                       Dynamite         0.746\n",
       "33               Supalonely (feat. Gus Dapperton)         0.862\n",
       "37  Sunflower - Spider-Man: Into the Spider-Verse         0.755\n",
       "38                                          Hawái         0.783\n",
       "39                                        Ride It         0.880\n",
       "40                                     goosebumps         0.841\n",
       "41                      RITMO (Bad Boys For Life)         0.723\n",
       "42                                     THE SCOTTS         0.716\n",
       "49                                     SICKO MODE         0.834"
      ]
     },
     "execution_count": 20,
     "metadata": {},
     "output_type": "execute_result"
    }
   ],
   "source": [
    "df[df['danceability'] > 0.7][['track_name', 'danceability']]"
   ]
  },
  {
   "cell_type": "markdown",
   "id": "5f2e7338-579c-4540-9f39-38679d186f5f",
   "metadata": {},
   "source": [
    "## Which tracks have a danceability score below 0.4?"
   ]
  },
  {
   "cell_type": "code",
   "execution_count": 21,
   "id": "c9d160a9-4df6-4aa1-bc82-589fe737e0ec",
   "metadata": {},
   "outputs": [
    {
     "data": {
      "text/html": [
       "<div>\n",
       "<style scoped>\n",
       "    .dataframe tbody tr th:only-of-type {\n",
       "        vertical-align: middle;\n",
       "    }\n",
       "\n",
       "    .dataframe tbody tr th {\n",
       "        vertical-align: top;\n",
       "    }\n",
       "\n",
       "    .dataframe thead th {\n",
       "        text-align: right;\n",
       "    }\n",
       "</style>\n",
       "<table border=\"1\" class=\"dataframe\">\n",
       "  <thead>\n",
       "    <tr style=\"text-align: right;\">\n",
       "      <th></th>\n",
       "      <th>track_name</th>\n",
       "      <th>danceability</th>\n",
       "    </tr>\n",
       "  </thead>\n",
       "  <tbody>\n",
       "    <tr>\n",
       "      <th>44</th>\n",
       "      <td>lovely (with Khalid)</td>\n",
       "      <td>0.351</td>\n",
       "    </tr>\n",
       "  </tbody>\n",
       "</table>\n",
       "</div>"
      ],
      "text/plain": [
       "              track_name  danceability\n",
       "44  lovely (with Khalid)         0.351"
      ]
     },
     "execution_count": 21,
     "metadata": {},
     "output_type": "execute_result"
    }
   ],
   "source": [
    "df[df['danceability'] < 0.4][['track_name', 'danceability']]"
   ]
  },
  {
   "cell_type": "markdown",
   "id": "868b7324-0195-4805-8e0e-58a8cb9cc3a2",
   "metadata": {},
   "source": [
    "## Which tracks have their loudness above -5?"
   ]
  },
  {
   "cell_type": "code",
   "execution_count": 22,
   "id": "4d977a0a-3490-49d6-ab64-d9e2c4c929a4",
   "metadata": {},
   "outputs": [
    {
     "data": {
      "text/html": [
       "<div>\n",
       "<style scoped>\n",
       "    .dataframe tbody tr th:only-of-type {\n",
       "        vertical-align: middle;\n",
       "    }\n",
       "\n",
       "    .dataframe tbody tr th {\n",
       "        vertical-align: top;\n",
       "    }\n",
       "\n",
       "    .dataframe thead th {\n",
       "        text-align: right;\n",
       "    }\n",
       "</style>\n",
       "<table border=\"1\" class=\"dataframe\">\n",
       "  <thead>\n",
       "    <tr style=\"text-align: right;\">\n",
       "      <th></th>\n",
       "      <th>track_name</th>\n",
       "      <th>loudness</th>\n",
       "    </tr>\n",
       "  </thead>\n",
       "  <tbody>\n",
       "    <tr>\n",
       "      <th>4</th>\n",
       "      <td>Don't Start Now</td>\n",
       "      <td>-4.521</td>\n",
       "    </tr>\n",
       "    <tr>\n",
       "      <th>6</th>\n",
       "      <td>Watermelon Sugar</td>\n",
       "      <td>-4.209</td>\n",
       "    </tr>\n",
       "    <tr>\n",
       "      <th>10</th>\n",
       "      <td>Tusa</td>\n",
       "      <td>-3.280</td>\n",
       "    </tr>\n",
       "    <tr>\n",
       "      <th>12</th>\n",
       "      <td>Circles</td>\n",
       "      <td>-3.497</td>\n",
       "    </tr>\n",
       "    <tr>\n",
       "      <th>16</th>\n",
       "      <td>Before You Go</td>\n",
       "      <td>-4.858</td>\n",
       "    </tr>\n",
       "    <tr>\n",
       "      <th>17</th>\n",
       "      <td>Say So</td>\n",
       "      <td>-4.577</td>\n",
       "    </tr>\n",
       "    <tr>\n",
       "      <th>21</th>\n",
       "      <td>Adore You</td>\n",
       "      <td>-3.675</td>\n",
       "    </tr>\n",
       "    <tr>\n",
       "      <th>23</th>\n",
       "      <td>Mood (feat. iann dior)</td>\n",
       "      <td>-3.558</td>\n",
       "    </tr>\n",
       "    <tr>\n",
       "      <th>31</th>\n",
       "      <td>Break My Heart</td>\n",
       "      <td>-3.434</td>\n",
       "    </tr>\n",
       "    <tr>\n",
       "      <th>32</th>\n",
       "      <td>Dynamite</td>\n",
       "      <td>-4.410</td>\n",
       "    </tr>\n",
       "    <tr>\n",
       "      <th>33</th>\n",
       "      <td>Supalonely (feat. Gus Dapperton)</td>\n",
       "      <td>-4.746</td>\n",
       "    </tr>\n",
       "    <tr>\n",
       "      <th>35</th>\n",
       "      <td>Rain On Me (with Ariana Grande)</td>\n",
       "      <td>-3.764</td>\n",
       "    </tr>\n",
       "    <tr>\n",
       "      <th>37</th>\n",
       "      <td>Sunflower - Spider-Man: Into the Spider-Verse</td>\n",
       "      <td>-4.368</td>\n",
       "    </tr>\n",
       "    <tr>\n",
       "      <th>38</th>\n",
       "      <td>Hawái</td>\n",
       "      <td>-3.454</td>\n",
       "    </tr>\n",
       "    <tr>\n",
       "      <th>39</th>\n",
       "      <td>Ride It</td>\n",
       "      <td>-4.258</td>\n",
       "    </tr>\n",
       "    <tr>\n",
       "      <th>40</th>\n",
       "      <td>goosebumps</td>\n",
       "      <td>-3.370</td>\n",
       "    </tr>\n",
       "    <tr>\n",
       "      <th>43</th>\n",
       "      <td>Safaera</td>\n",
       "      <td>-4.074</td>\n",
       "    </tr>\n",
       "    <tr>\n",
       "      <th>48</th>\n",
       "      <td>Physical</td>\n",
       "      <td>-3.756</td>\n",
       "    </tr>\n",
       "    <tr>\n",
       "      <th>49</th>\n",
       "      <td>SICKO MODE</td>\n",
       "      <td>-3.714</td>\n",
       "    </tr>\n",
       "  </tbody>\n",
       "</table>\n",
       "</div>"
      ],
      "text/plain": [
       "                                       track_name  loudness\n",
       "4                                 Don't Start Now    -4.521\n",
       "6                                Watermelon Sugar    -4.209\n",
       "10                                           Tusa    -3.280\n",
       "12                                        Circles    -3.497\n",
       "16                                  Before You Go    -4.858\n",
       "17                                         Say So    -4.577\n",
       "21                                      Adore You    -3.675\n",
       "23                         Mood (feat. iann dior)    -3.558\n",
       "31                                 Break My Heart    -3.434\n",
       "32                                       Dynamite    -4.410\n",
       "33               Supalonely (feat. Gus Dapperton)    -4.746\n",
       "35                Rain On Me (with Ariana Grande)    -3.764\n",
       "37  Sunflower - Spider-Man: Into the Spider-Verse    -4.368\n",
       "38                                          Hawái    -3.454\n",
       "39                                        Ride It    -4.258\n",
       "40                                     goosebumps    -3.370\n",
       "43                                        Safaera    -4.074\n",
       "48                                       Physical    -3.756\n",
       "49                                     SICKO MODE    -3.714"
      ]
     },
     "execution_count": 22,
     "metadata": {},
     "output_type": "execute_result"
    }
   ],
   "source": [
    "df[df['loudness'] > -5][['track_name', 'loudness']]"
   ]
  },
  {
   "cell_type": "markdown",
   "id": "d9ed3cf7-1aa3-4058-a801-10f0aba72f9f",
   "metadata": {},
   "source": [
    "## Which tracks have their loudness below -8?"
   ]
  },
  {
   "cell_type": "code",
   "execution_count": 23,
   "id": "9fa843ce-6322-4a6f-b4e3-6423422407aa",
   "metadata": {},
   "outputs": [
    {
     "data": {
      "text/html": [
       "<div>\n",
       "<style scoped>\n",
       "    .dataframe tbody tr th:only-of-type {\n",
       "        vertical-align: middle;\n",
       "    }\n",
       "\n",
       "    .dataframe tbody tr th {\n",
       "        vertical-align: top;\n",
       "    }\n",
       "\n",
       "    .dataframe thead th {\n",
       "        text-align: right;\n",
       "    }\n",
       "</style>\n",
       "<table border=\"1\" class=\"dataframe\">\n",
       "  <thead>\n",
       "    <tr style=\"text-align: right;\">\n",
       "      <th></th>\n",
       "      <th>track_name</th>\n",
       "      <th>loudness</th>\n",
       "    </tr>\n",
       "  </thead>\n",
       "  <tbody>\n",
       "    <tr>\n",
       "      <th>7</th>\n",
       "      <td>death bed (coffee for your head)</td>\n",
       "      <td>-8.765</td>\n",
       "    </tr>\n",
       "    <tr>\n",
       "      <th>8</th>\n",
       "      <td>Falling</td>\n",
       "      <td>-8.756</td>\n",
       "    </tr>\n",
       "    <tr>\n",
       "      <th>15</th>\n",
       "      <td>Toosie Slide</td>\n",
       "      <td>-8.820</td>\n",
       "    </tr>\n",
       "    <tr>\n",
       "      <th>20</th>\n",
       "      <td>Savage Love (Laxed - Siren Beat)</td>\n",
       "      <td>-8.520</td>\n",
       "    </tr>\n",
       "    <tr>\n",
       "      <th>24</th>\n",
       "      <td>everything i wanted</td>\n",
       "      <td>-14.454</td>\n",
       "    </tr>\n",
       "    <tr>\n",
       "      <th>26</th>\n",
       "      <td>bad guy</td>\n",
       "      <td>-10.965</td>\n",
       "    </tr>\n",
       "    <tr>\n",
       "      <th>36</th>\n",
       "      <td>HIGHEST IN THE ROOM</td>\n",
       "      <td>-8.764</td>\n",
       "    </tr>\n",
       "    <tr>\n",
       "      <th>44</th>\n",
       "      <td>lovely (with Khalid)</td>\n",
       "      <td>-10.109</td>\n",
       "    </tr>\n",
       "    <tr>\n",
       "      <th>47</th>\n",
       "      <td>If the World Was Ending - feat. Julia Michaels</td>\n",
       "      <td>-10.086</td>\n",
       "    </tr>\n",
       "  </tbody>\n",
       "</table>\n",
       "</div>"
      ],
      "text/plain": [
       "                                        track_name  loudness\n",
       "7                 death bed (coffee for your head)    -8.765\n",
       "8                                          Falling    -8.756\n",
       "15                                    Toosie Slide    -8.820\n",
       "20                Savage Love (Laxed - Siren Beat)    -8.520\n",
       "24                             everything i wanted   -14.454\n",
       "26                                         bad guy   -10.965\n",
       "36                             HIGHEST IN THE ROOM    -8.764\n",
       "44                            lovely (with Khalid)   -10.109\n",
       "47  If the World Was Ending - feat. Julia Michaels   -10.086"
      ]
     },
     "execution_count": 23,
     "metadata": {},
     "output_type": "execute_result"
    }
   ],
   "source": [
    "df[df['loudness'] < -8][['track_name', 'loudness']]"
   ]
  },
  {
   "cell_type": "markdown",
   "id": "dddb6e2d-734b-4605-b809-16b4a211b2fe",
   "metadata": {},
   "source": [
    "## Which track is the longest?"
   ]
  },
  {
   "cell_type": "code",
   "execution_count": 24,
   "id": "e3646cb8-a5eb-4df2-aa14-79a7ec680a39",
   "metadata": {},
   "outputs": [
    {
     "data": {
      "text/html": [
       "<div>\n",
       "<style scoped>\n",
       "    .dataframe tbody tr th:only-of-type {\n",
       "        vertical-align: middle;\n",
       "    }\n",
       "\n",
       "    .dataframe tbody tr th {\n",
       "        vertical-align: top;\n",
       "    }\n",
       "\n",
       "    .dataframe thead th {\n",
       "        text-align: right;\n",
       "    }\n",
       "</style>\n",
       "<table border=\"1\" class=\"dataframe\">\n",
       "  <thead>\n",
       "    <tr style=\"text-align: right;\">\n",
       "      <th></th>\n",
       "      <th>track_name</th>\n",
       "      <th>duration_ms</th>\n",
       "    </tr>\n",
       "  </thead>\n",
       "  <tbody>\n",
       "    <tr>\n",
       "      <th>49</th>\n",
       "      <td>SICKO MODE</td>\n",
       "      <td>312820</td>\n",
       "    </tr>\n",
       "  </tbody>\n",
       "</table>\n",
       "</div>"
      ],
      "text/plain": [
       "    track_name  duration_ms\n",
       "49  SICKO MODE       312820"
      ]
     },
     "execution_count": 24,
     "metadata": {},
     "output_type": "execute_result"
    }
   ],
   "source": [
    "df[df['duration_ms'] == df['duration_ms'].max()][['track_name', 'duration_ms']]"
   ]
  },
  {
   "cell_type": "markdown",
   "id": "ccb9f24f-6c09-4e48-8fae-da41f2e5cd61",
   "metadata": {},
   "source": [
    "## Which track is the shortest?"
   ]
  },
  {
   "cell_type": "code",
   "execution_count": 25,
   "id": "0f961237-9469-4ed8-82c7-8a2c0eaaa327",
   "metadata": {},
   "outputs": [
    {
     "data": {
      "text/html": [
       "<div>\n",
       "<style scoped>\n",
       "    .dataframe tbody tr th:only-of-type {\n",
       "        vertical-align: middle;\n",
       "    }\n",
       "\n",
       "    .dataframe tbody tr th {\n",
       "        vertical-align: top;\n",
       "    }\n",
       "\n",
       "    .dataframe thead th {\n",
       "        text-align: right;\n",
       "    }\n",
       "</style>\n",
       "<table border=\"1\" class=\"dataframe\">\n",
       "  <thead>\n",
       "    <tr style=\"text-align: right;\">\n",
       "      <th></th>\n",
       "      <th>track_name</th>\n",
       "      <th>duration_ms</th>\n",
       "    </tr>\n",
       "  </thead>\n",
       "  <tbody>\n",
       "    <tr>\n",
       "      <th>23</th>\n",
       "      <td>Mood (feat. iann dior)</td>\n",
       "      <td>140526</td>\n",
       "    </tr>\n",
       "  </tbody>\n",
       "</table>\n",
       "</div>"
      ],
      "text/plain": [
       "                track_name  duration_ms\n",
       "23  Mood (feat. iann dior)       140526"
      ]
     },
     "execution_count": 25,
     "metadata": {},
     "output_type": "execute_result"
    }
   ],
   "source": [
    "df[df['duration_ms'] == df['duration_ms'].min()][['track_name', 'duration_ms']]"
   ]
  },
  {
   "cell_type": "markdown",
   "id": "991aeb25-8731-4e6d-96b5-42409ec7501f",
   "metadata": {},
   "source": [
    "## Which genre is the most popular?"
   ]
  },
  {
   "cell_type": "code",
   "execution_count": 26,
   "id": "048f7161-0c5a-4059-8c70-204f3c4c0d74",
   "metadata": {},
   "outputs": [
    {
     "name": "stdout",
     "output_type": "stream",
     "text": [
      "The genre with the most tracks is Pop with 14 tracks.\n"
     ]
    }
   ],
   "source": [
    "# Group by genre and count the number of tracks for each genre\n",
    "track_counts = df['genre'].value_counts()\n",
    "\n",
    "# Identify the genre with the most tracks\n",
    "most_tracks_genre = track_counts.idxmax()\n",
    "num_tracks = track_counts.max()\n",
    "print(f\"The genre with the most tracks is {most_tracks_genre} with {num_tracks} tracks.\")"
   ]
  },
  {
   "cell_type": "markdown",
   "id": "25713509-e5c0-4f39-bdf3-755f46908358",
   "metadata": {},
   "source": [
    "## Which genres have just one song in the top 50?"
   ]
  },
  {
   "cell_type": "code",
   "execution_count": 27,
   "id": "9df029a5-e135-49fc-bee8-d054759832ed",
   "metadata": {},
   "outputs": [
    {
     "data": {
      "text/plain": [
       "4                               Nu-disco\n",
       "8                R&B/Hip-Hop alternative\n",
       "12                         Pop/Soft Rock\n",
       "23                               Pop rap\n",
       "27                          Hip-Hop/Trap\n",
       "31                       Dance-pop/Disco\n",
       "32                             Disco-pop\n",
       "37                  Dreampop/Hip-Hop/R&B\n",
       "43    Alternative/reggaeton/experimental\n",
       "44                           Chamber pop\n",
       "Name: genre, dtype: object"
      ]
     },
     "execution_count": 27,
     "metadata": {},
     "output_type": "execute_result"
    }
   ],
   "source": [
    "# Group by genre and filter genres with just one track\n",
    "df.groupby('genre').filter(lambda x: len(x) == 1)['genre']"
   ]
  },
  {
   "cell_type": "markdown",
   "id": "c120dd19-1f32-461b-bdde-42290c59b4e2",
   "metadata": {},
   "source": [
    "## How many genres in total are represented in the top 50?"
   ]
  },
  {
   "cell_type": "code",
   "execution_count": 28,
   "id": "d479eac1-cc65-469b-bdbf-03dd30e37003",
   "metadata": {},
   "outputs": [
    {
     "name": "stdout",
     "output_type": "stream",
     "text": [
      "The dataset has 16 unique genres.\n"
     ]
    }
   ],
   "source": [
    "print(f\"The dataset has {df['genre'].nunique()} unique genres.\")"
   ]
  },
  {
   "cell_type": "markdown",
   "id": "82d077e2-2a35-4f00-ad46-7df6d06a8d5d",
   "metadata": {},
   "source": [
    "## Which features are strongly positively / negatively correlated or not correlated at all?"
   ]
  },
  {
   "cell_type": "markdown",
   "id": "4b9aba82-37b0-41c9-8455-9bba978cbbce",
   "metadata": {},
   "source": [
    "**loundness/energy** - strongly positively correlated (reddish on the heatmap)\n",
    "\n",
    "**acousticness/energy** - strongly negatevely correlated (dark blue on the heatmap)\n",
    "\n",
    "All the light blue/red pairs on the heatmap point to values that are not correlated at all. For example, energy/speechiness, duration_ms/loudness, etc."
   ]
  },
  {
   "cell_type": "code",
   "execution_count": 29,
   "id": "174fb738-3f6e-4639-b5a7-b3abcac3c38c",
   "metadata": {},
   "outputs": [
    {
     "data": {
      "text/plain": [
       "<Figure size 1000x800 with 0 Axes>"
      ]
     },
     "metadata": {},
     "output_type": "display_data"
    },
    {
     "data": {
      "image/png": "[encoded data removed]",
      "text/plain": [
       "<Figure size 480x480 with 2 Axes>"
      ]
     },
     "metadata": {},
     "output_type": "display_data"
    }
   ],
   "source": [
    "numeric_df = df.select_dtypes(include=['number'])\n",
    "corr = numeric_df.corr()\n",
    "\n",
    "plt.figure(num=None, figsize=(10, 8))\n",
    "plt.matshow(corr, cmap='coolwarm')\n",
    "plt.xticks(range(len(corr.columns)), corr.columns, rotation=90)\n",
    "plt.yticks(range(len(corr.columns)), corr.columns)\n",
    "plt.gca().xaxis.tick_bottom()\n",
    "plt.colorbar()\n",
    "plt.title(f'Correlation Matrix', fontsize=15)\n",
    "plt.show()"
   ]
  },
  {
   "cell_type": "code",
   "execution_count": 30,
   "id": "07c6726f-dd6a-45ce-b961-01e9df4ba308",
   "metadata": {},
   "outputs": [],
   "source": [
    "def plot_avg_feature_by_genre(df, feature, genres_of_interest):\n",
    "    # Filter the dataset to include only the specified genres\n",
    "    filtered_df = df[df['genre'].isin(genres_of_interest)]\n",
    "\n",
    "    # Calculate the average value of the specified feature for each genre\n",
    "    avg_feature = filtered_df.groupby('genre')[feature].mean()\n",
    "\n",
    "    # Plot the results\n",
    "    plt.figure(figsize=(8, 4))\n",
    "    avg_feature.plot(kind='bar', color=['#696969', '#30d5c8', '#ff9933', '#ff69b4'])\n",
    "    plt.title(f'Average {feature.capitalize()} Score by Genre')\n",
    "    plt.xlabel('Genre')\n",
    "    plt.ylabel(feature.capitalize())\n",
    "    plt.xticks(rotation=0)\n",
    "    plt.show()\n",
    "\n",
    "# Define the genres of interest\n",
    "genres_of_interest = ['Pop', 'Hip-Hop/Rap', 'Dance/Electronic', 'Alternative/Indie']"
   ]
  },
  {
   "cell_type": "markdown",
   "id": "c361ac91-e34f-4374-b739-0c3e5fc49b05",
   "metadata": {},
   "source": [
    "## How does the danceability score compare between Pop, Hip-Hop/Rap, Dance/Electronic, and Alternative/Indie genres?"
   ]
  },
  {
   "cell_type": "code",
   "execution_count": 31,
   "id": "f0760518-afca-4a6c-ad9c-786038b17385",
   "metadata": {},
   "outputs": [
    {
     "data": {
      "image/png": "[encoded data removed]",
      "text/plain": [
       "<Figure size 800x400 with 1 Axes>"
      ]
     },
     "metadata": {},
     "output_type": "display_data"
    }
   ],
   "source": [
    "plot_avg_feature_by_genre(df, 'danceability', genres_of_interest)"
   ]
  },
  {
   "cell_type": "markdown",
   "id": "279b74ad-6cee-4b3a-97ae-2ac86601dbf9",
   "metadata": {},
   "source": [
    "#### Explanation of Danceability Feature\n",
    "Danceability measures how suitable a track is for dancing, considering tempo, rhythm, beat strength, and regularity. The score ranges from 0 to 1, with 0 being the least danceable and 1 being the most danceable.\n",
    "#### Insights from the Chart\n",
    "1. Dance/Electronic and Hip-Hop/Rap have the highest danceability scores, both above 0.75, making them the most dance-friendly genres.\n",
    "2. Pop music has a moderate danceability score of around 0.7, indicating it is generally suitable for dancing but varies more in rhythmic elements.\n",
    "3. Alternative/Indie has the lowest score, around 0.65, suggesting that its complex rhythms make it less danceable compared to other genres."
   ]
  },
  {
   "cell_type": "markdown",
   "id": "365a88ac-9f27-4b4c-b3b6-74516bc2daf6",
   "metadata": {},
   "source": [
    "## How does the loudness score compare between Pop, Hip-Hop/Rap, Dance/Electronic, and Alternative/Indie genres?"
   ]
  },
  {
   "cell_type": "code",
   "execution_count": 32,
   "id": "69aa7035-f326-4ff6-890a-48cb53d75f2c",
   "metadata": {},
   "outputs": [
    {
     "data": {
      "image/png": "[encoded data removed]",
      "text/plain": [
       "<Figure size 800x400 with 1 Axes>"
      ]
     },
     "metadata": {},
     "output_type": "display_data"
    }
   ],
   "source": [
    "plot_avg_feature_by_genre(df, 'loudness', genres_of_interest)"
   ]
  },
  {
   "cell_type": "markdown",
   "id": "fac7b0ef-cfe5-426e-885c-3b973f960c7a",
   "metadata": {},
   "source": [
    "#### Explanation of Loudness Feature\n",
    "Loudness measures the overall volume of a track in decibels (dB). It is expressed as a negative value relative to 0 dB, the maximum possible loudness. A value closer to 0 indicates a louder track, while a more negative value indicates a quieter track.\n",
    "#### Insights from the Chart\n",
    "1. Alternative/Indie and Dance/Electronic are the loudest genres, with average loudness scores around -5.5 dB. This suggests these genres are typically produced to be more powerful and impactful, likely enhancing the listening experience with a fuller sound.\n",
    "2. Pop is moderately loud, with an average loudness score of approximately -6.5 dB. This indicates a balanced production style, aiming for clarity and broad appeal while maintaining a certain dynamic range.\n",
    "3. Hip-Hop/Rap is the quietest among the genres, with an average loudness score close to -7 dB. This could reflect production choices that emphasize beats and vocals over sheer loudness, potentially aiming for a more dynamic and nuanced sound."
   ]
  },
  {
   "cell_type": "markdown",
   "id": "4d38c892-d750-4b4c-84a6-b9abbd37e509",
   "metadata": {},
   "source": [
    "## How does the acousticness score compare between Pop, Hip-Hop/Rap, Dance/Electronic, and Alternative/Indie genres?"
   ]
  },
  {
   "cell_type": "code",
   "execution_count": 33,
   "id": "39254cf6-e2f4-4968-baa7-6535ad3e0356",
   "metadata": {},
   "outputs": [
    {
     "data": {
      "image/png": "[encoded data removed]",
      "text/plain": [
       "<Figure size 800x400 with 1 Axes>"
      ]
     },
     "metadata": {},
     "output_type": "display_data"
    }
   ],
   "source": [
    "plot_avg_feature_by_genre(df, 'acousticness', genres_of_interest)"
   ]
  },
  {
   "cell_type": "markdown",
   "id": "43589fdd-0357-4d82-9e76-dcd02c2fbcd4",
   "metadata": {},
   "source": [
    "#### Explanation of Acousticness Feature\n",
    "Acousticness measures how acoustic a track is, with values ranging from 0 to 1. A value of 1 represents a track that is highly acoustic, featuring more organic sounds like traditional instruments, whereas a value of 0 represents a track with no acoustic elements, likely dominated by electronic instruments.\n",
    "#### Insights from the Chart\n",
    "1. Alternative/Indie has the highest acousticness score, close to 0.6, indicating that this genre frequently incorporates acoustic elements, making it sound more natural and organic.\n",
    "2. Pop has a moderate acousticness score of about 0.3, suggesting that while Pop tracks often use electronic production techniques, there is still a noticeable presence of acoustic elements.\n",
    "3. Hip-Hop/Rap shows a lower acousticness score, around 0.2, indicating a preference for electronic and synthetic sounds over acoustic instrumentation.\n",
    "4. Dance/Electronic has the lowest acousticness score, under 0.1, emphasizing its reliance on electronic production and synthetic sounds, which are characteristic of the genre."
   ]
  }
 ],
 "metadata": {
  "kernelspec": {
   "display_name": "Python 3 (ipykernel)",
   "language": "python",
   "name": "python3"
  },
  "language_info": {
   "codemirror_mode": {
    "name": "ipython",
    "version": 3
   },
   "file_extension": ".py",
   "mimetype": "text/x-python",
   "name": "python",
   "nbconvert_exporter": "python",
   "pygments_lexer": "ipython3",
   "version": "3.12.5"
  }
 },
 "nbformat": 4,
 "nbformat_minor": 5
}
